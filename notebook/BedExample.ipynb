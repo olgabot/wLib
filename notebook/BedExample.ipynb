{
 "metadata": {
  "name": "BedExample"
 },
 "nbformat": 3,
 "nbformat_minor": 0,
 "worksheets": [
  {
   "cells": [
    {
     "cell_type": "code",
     "collapsed": false,
     "input": [
      "from wLib import Bed3,Wiggle,BedGraph,Peak,Bed"
     ],
     "language": "python",
     "metadata": {},
     "outputs": [],
     "prompt_number": 1
    },
    {
     "cell_type": "code",
     "collapsed": false,
     "input": [
      "# Create Bed3 from list\n",
      "tbed = Bed3([\"chr1\", 100, 200])\n",
      "print \"tbed:\",tbed"
     ],
     "language": "python",
     "metadata": {},
     "outputs": [
      {
       "output_type": "stream",
       "stream": "stdout",
       "text": [
        "tbed: chr1\t100\t200\n"
       ]
      }
     ],
     "prompt_number": 2
    },
    {
     "cell_type": "code",
     "collapsed": false,
     "input": [
      "# Create Bed3 from string seperated by tab\n",
      "# Note: The extra columns will be saved as tbed2.otherfileds \n",
      "tbed2 = Bed3(\"chr1\\t100\\t200\\t0.5\")\n",
      "\n",
      "# By default, print tbed2 will just show the basic information\n",
      "print \"tbed2:\", tbed2\n",
      "\n",
      "# print all fields\n",
      "print \"otherfileds:\",tbed2.otherfields\n",
      "print \"tbed2 with all fields:\",tbed2.allFields()"
     ],
     "language": "python",
     "metadata": {},
     "outputs": [
      {
       "output_type": "stream",
       "stream": "stdout",
       "text": [
        "tbed2: chr1\t100\t200\n",
        "otherfileds: ['0.5']\n",
        "tbed2 with all fields: chr1\t100\t200\t0.5\n"
       ]
      }
     ],
     "prompt_number": 3
    },
    {
     "cell_type": "code",
     "collapsed": false,
     "input": [
      "# Extend and Trim\n",
      "# Extend bed to upstream 50 and downstream 50\n",
      "print \"Extend 20 bp at both ends:\",tbed2.extend(50, 50)\n",
      "\n",
      "# Extend bed to upstream -20 and downstream -20. It's equivalent to trim 20 bps at both ends\n",
      "print \"Trim 20 bp at both ends:\",tbed2.extend(-20,-20)"
     ],
     "language": "python",
     "metadata": {},
     "outputs": [
      {
       "output_type": "stream",
       "stream": "stdout",
       "text": [
        "Extend 20 bp at both ends: chr1\t50\t250\n",
        "Trim 20 bp at both ends: chr1\t120\t180\n"
       ]
      }
     ],
     "prompt_number": 4
    },
    {
     "cell_type": "code",
     "collapsed": false,
     "input": [
      "# Compare beds: compare chrom first, then start, then end\n",
      "# Two beds are equal when their chrom,start,end are equal\n",
      "print \"tbed:\",tbed\n",
      "print \"tbed2:\",tbed2.allFields()\n",
      "if tbed > tbed2:\n",
      "    print \"tbed > tbed2\"\n",
      "elif tbed < tbed2:\n",
      "    print \"tbed < tbed2\"\n",
      "else:\n",
      "    print \"tbed == tbed2\""
     ],
     "language": "python",
     "metadata": {},
     "outputs": [
      {
       "output_type": "stream",
       "stream": "stdout",
       "text": [
        "tbed: chr1\t100\t200\n",
        "tbed2: chr1\t100\t200\t0.5\n",
        "tbed == tbed2\n"
       ]
      }
     ],
     "prompt_number": 5
    },
    {
     "cell_type": "code",
     "collapsed": false,
     "input": [
      "# BedGraph\n",
      "tbedgraph = BedGraph(\"chr19\\t49302000\\t49302300\\t-1.0\")\n",
      "print tbedgraph"
     ],
     "language": "python",
     "metadata": {},
     "outputs": [
      {
       "output_type": "stream",
       "stream": "stdout",
       "text": [
        "chr19\t49302000\t49302300\t-1.0\n"
       ]
      }
     ],
     "prompt_number": 6
    },
    {
     "cell_type": "code",
     "collapsed": false,
     "input": [
      "# Wiggle\n",
      "# Note: Wiggle is 1 based in wiggle file, but stored as 0-based in Wiggle class.\n",
      "twig = Wiggle(\"chr1\\t51\\t100\\t13.5\")\n",
      "print \"start=\",twig.start,\"stop=\",twig.stop\n",
      "print \"Wiggle presentation:\",twig\n",
      "print \"Bed presentation:\",twig.bedstr()"
     ],
     "language": "python",
     "metadata": {},
     "outputs": [
      {
       "output_type": "stream",
       "stream": "stdout",
       "text": [
        "start= 50 stop= 100\n",
        "Wiggle presentation: chr1\t51\t100\t13.5\n",
        "Bed presentation: chr1\t50\t100\t13.5\n"
       ]
      }
     ],
     "prompt_number": 7
    },
    {
     "cell_type": "code",
     "collapsed": false,
     "input": [
      "# Peak (MACS output format)\n",
      "peak = Peak(\"chr1\\t3661094\\t3661241\\t148\\t91\\t8\\t51.89\\t8.20\\t1.51\")\n",
      "dir(peak)\n",
      "print \"Summit=\",peak.summit,\"p-value=\",peak.pvalue,\"FDR=\",peak.fdr\n",
      "print peak"
     ],
     "language": "python",
     "metadata": {},
     "outputs": [
      {
       "output_type": "stream",
       "stream": "stdout",
       "text": [
        "Summit= 91 p-value= 51.89 FDR= 1.51\n",
        "chr1\t3661094\t3661241\t148\t91\t8\t51.89\t8.2\t1.51\n"
       ]
      }
     ],
     "prompt_number": 8
    }
   ],
   "metadata": {}
  }
 ]
}