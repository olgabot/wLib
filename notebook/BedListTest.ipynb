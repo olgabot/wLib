{
 "metadata": {
  "name": "BedListTest"
 },
 "nbformat": 3,
 "nbformat_minor": 0,
 "worksheets": [
  {
   "cells": [
    {
     "cell_type": "code",
     "collapsed": false,
     "input": [
      "from wLib import Bed3, BedList"
     ],
     "language": "python",
     "metadata": {},
     "outputs": [],
     "prompt_number": 23
    },
    {
     "cell_type": "code",
     "collapsed": false,
     "input": [
      "# create a BedList\n",
      "tbedlst = BedList()\n",
      "\n",
      "# read from file\n",
      "tbedlst.readfile(\"test.bed\",'bed3')\n",
      "\n",
      "# print items in BedList\n",
      "for tbed in tbedlst:\n",
      "    print tbed"
     ],
     "language": "python",
     "metadata": {},
     "outputs": [
      {
       "output_type": "stream",
       "stream": "stdout",
       "text": [
        "chr1\t12416097\t12416119\n",
        "chr1\t20669098\t20669120\n",
        "chr1\t20669136\t20669157\n",
        "chr1\t20672878\t20672899\n",
        "chr1\t20672915\t20672936\n",
        "chr1\t23279113\t23279134\n",
        "chr1\t23279154\t23279175\n",
        "chr1\t23298553\t23298575\n",
        "chr1\t23298593\t23298614\n",
        "chr1\t29478397\t29478418\n"
       ]
      }
     ],
     "prompt_number": 24
    },
    {
     "cell_type": "code",
     "collapsed": false,
     "input": [
      "# BedList has all the function that **list** has, such as sort()\n",
      "print \"Length:\",len(tbedlst)\n",
      "print \"Pop out the last item:\",tbedlst.pop()\n",
      "print \"Length:\",len(tbedlst)"
     ],
     "language": "python",
     "metadata": {},
     "outputs": [
      {
       "output_type": "stream",
       "stream": "stdout",
       "text": [
        "Length: 10\n",
        "Pop out the last item: chr1\t29478397\t29478418\n",
        "Length: 9\n"
       ]
      }
     ],
     "prompt_number": 25
    },
    {
     "cell_type": "code",
     "collapsed": false,
     "input": [
      "# append a new bed and sort\n",
      "tbedlst.append(Bed3('chr1\\t20672918\\t20672939'))\n",
      "tbedlst.sort()\n",
      "\n",
      "# print items in BedList\n",
      "for tbed in tbedlst:\n",
      "    print tbed"
     ],
     "language": "python",
     "metadata": {},
     "outputs": [
      {
       "output_type": "stream",
       "stream": "stdout",
       "text": [
        "chr1\t12416097\t12416119\n",
        "chr1\t20669098\t20669120\n",
        "chr1\t20669136\t20669157\n",
        "chr1\t20672878\t20672899\n",
        "chr1\t20672915\t20672936\n",
        "chr1\t20672918\t20672939\n",
        "chr1\t23279113\t23279134\n",
        "chr1\t23279154\t23279175\n",
        "chr1\t23298553\t23298575\n",
        "chr1\t23298593\t23298614\n"
       ]
      }
     ],
     "prompt_number": 26
    },
    {
     "cell_type": "code",
     "collapsed": false,
     "input": [
      "# Insert items in order\n",
      "tbed = Bed3('chr1\\t23279152\\t23279175')\n",
      "idx = tbedlst.bisect(tbed)\n",
      "tbedlst.insert(idx,tbed)\n",
      "\n",
      "# print items in BedList\n",
      "for tbed in tbedlst:\n",
      "    print tbed"
     ],
     "language": "python",
     "metadata": {},
     "outputs": [
      {
       "output_type": "stream",
       "stream": "stdout",
       "text": [
        "chr1\t12416097\t12416119\n",
        "chr1\t20669098\t20669120\n",
        "chr1\t20669136\t20669157\n",
        "chr1\t20672878\t20672899\n",
        "chr1\t20672915\t20672936\n",
        "chr1\t20672918\t20672939\n",
        "chr1\t23279113\t23279134\n",
        "chr1\t23279152\t23279175\n",
        "chr1\t23279154\t23279175\n",
        "chr1\t23298553\t23298575\n",
        "chr1\t23298593\t23298614\n"
       ]
      }
     ],
     "prompt_number": 27
    },
    {
     "cell_type": "code",
     "collapsed": false,
     "input": [
      "# Find overlap. This is for small BedList. If the BedList is huge, try BedMap or DB class.\n",
      "for tbed,overlen in tbedlst.findOverlap(Bed3('chr1\\t20669138\\t20672934')):\n",
      "    print tbed,overlen"
     ],
     "language": "python",
     "metadata": {},
     "outputs": [
      {
       "output_type": "stream",
       "stream": "stdout",
       "text": [
        "chr1\t20669136\t20669157 19\n",
        "chr1\t20672878\t20672899 21\n",
        "chr1\t20672915\t20672936 19\n",
        "chr1\t20672918\t20672939 16\n"
       ]
      }
     ],
     "prompt_number": 28
    },
    {
     "cell_type": "code",
     "collapsed": false,
     "input": [
      "# clear BedList\n",
      "tbedlst.clear()\n",
      "print \"Length:\", len(tbedlst)"
     ],
     "language": "python",
     "metadata": {},
     "outputs": [
      {
       "output_type": "stream",
       "stream": "stdout",
       "text": [
        "Length: 0\n"
       ]
      }
     ],
     "prompt_number": 29
    }
   ],
   "metadata": {}
  }
 ]
}