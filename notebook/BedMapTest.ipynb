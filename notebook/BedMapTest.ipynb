{
 "metadata": {
  "name": "BedMapTest"
 },
 "nbformat": 3,
 "nbformat_minor": 0,
 "worksheets": [
  {
   "cells": [
    {
     "cell_type": "code",
     "collapsed": false,
     "input": [
      "from wLib import BedMap,Bed"
     ],
     "language": "python",
     "metadata": {},
     "outputs": [],
     "prompt_number": 1
    },
    {
     "cell_type": "code",
     "collapsed": false,
     "input": [
      "# Initiate BedMap\n",
      "bedmap = BedMap('mm9')\n",
      "bedmap.loadBedToMap(\"mm9_miRNA.bed\",'bed')"
     ],
     "language": "python",
     "metadata": {},
     "outputs": [],
     "prompt_number": 2
    },
    {
     "cell_type": "code",
     "collapsed": false,
     "input": [
      "# BedMap is a dict: BedMap[chrom][Bin]:BedList\n",
      "print bedmap.keys()"
     ],
     "language": "python",
     "metadata": {},
     "outputs": [
      {
       "output_type": "stream",
       "stream": "stdout",
       "text": [
        "['chrY', 'chrX', 'chr13', 'chr12', 'chr11', 'chr10', 'chr17', 'chr16', 'chr15', 'chr14', 'chr19', 'chr18', 'chrM', 'chr7', 'chr6', 'chr5', 'chr4', 'chr3', 'chr2', 'chr1', 'chr9', 'chr8']\n"
       ]
      }
     ],
     "prompt_number": 3
    },
    {
     "cell_type": "code",
     "collapsed": false,
     "input": [
      "# find overlap for given bed\n",
      "querybed = Bed(\"chrX\\t6813821\\t6815821\")\n",
      "for tbed,overlen in bedmap.findOverlap(querybed):\n",
      "    print tbed,overlen"
     ],
     "language": "python",
     "metadata": {},
     "outputs": [
      {
       "output_type": "stream",
       "stream": "stdout",
       "text": [
        "chrX\t6814821\t6814842\tMIMAT0003507_1;mmu-miR-500-3p;MI0004702_1\t0.00 \t- 21\n",
        "chrX\t6814856\t6814880\tMIMAT0017258_1;mmu-miR-500-5p;MI0004702_1\t0.00 \t- 24\n"
       ]
      }
     ],
     "prompt_number": 4
    },
    {
     "cell_type": "code",
     "collapsed": false,
     "input": [
      "# clear bedmap\n",
      "bedmap.clear()\n",
      "print len(bedmap)"
     ],
     "language": "python",
     "metadata": {},
     "outputs": [
      {
       "output_type": "stream",
       "stream": "stdout",
       "text": [
        "0\n"
       ]
      }
     ],
     "prompt_number": 5
    }
   ],
   "metadata": {}
  }
 ]
}