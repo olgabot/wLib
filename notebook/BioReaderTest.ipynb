{
 "metadata": {
  "name": "BioReaderTest"
 },
 "nbformat": 3,
 "nbformat_minor": 0,
 "worksheets": [
  {
   "cells": [
    {
     "cell_type": "code",
     "collapsed": false,
     "input": [
      "from wLib import IO"
     ],
     "language": "python",
     "metadata": {},
     "outputs": [],
     "prompt_number": 1
    },
    {
     "cell_type": "code",
     "collapsed": false,
     "input": [
      "# Fasta file, return a Fasta object\n",
      "for tfa in IO.BioReader('test.fa','fasta'):\n",
      "    print tfa.id,tfa.seq[0:10] # Just print part of the sequence"
     ],
     "language": "python",
     "metadata": {},
     "outputs": [
      {
       "output_type": "stream",
       "stream": "stdout",
       "text": [
        "chr1 CTCTTACGTT\n",
        "chr2 TGCGGTGTAT\n",
        "chr3 ACCCCCAACT\n",
        "chr4 TAGTCTGCAG\n"
       ]
      }
     ],
     "prompt_number": 2
    },
    {
     "cell_type": "code",
     "collapsed": false,
     "input": [
      "# Fastq file, return a Fastq object\n",
      "for tfq in IO.BioReader('test.fq','fastq'):\n",
      "    print tfq.id,tfq.seq[0:10],tfq.qual[0:10] # Just print part of the sequence"
     ],
     "language": "python",
     "metadata": {},
     "outputs": [
      {
       "output_type": "stream",
       "stream": "stdout",
       "text": [
        "HWI-ST1113_0169:4:1101:4037:2446#CGATGT/1 CTATAGGAGT abbeeeeegg\n",
        "HWI-ST1113_0169:4:1101:4228:2457#CGATGT/1 GGAGTGGGTT abbecdeegg\n",
        "HWI-ST1113_0169:4:1101:4471:2298#CGATGT/1 TCCAGGTTCC abbeeecdgg\n",
        "HWI-ST1113_0169:4:1101:4367:2465#CGATGT/1 TTATGTCTCT bbbeeeeegg\n",
        "HWI-ST1113_0169:4:1101:4535:2254#CGATGT/1 GTAAAAACGT _abeeeeege\n",
        "HWI-ST1113_0169:4:1101:4642:2262#CGATGT/1 CATTTTTTTC bbbeeeeegg\n",
        "HWI-ST1113_0169:4:1101:4732:2264#CGATGT/1 GGACCAATTA bbbeeeeegg\n"
       ]
      }
     ],
     "prompt_number": 3
    },
    {
     "cell_type": "code",
     "collapsed": false,
     "input": [
      "# Any tab seperated file, it will return a list for each row\n",
      "for tbed in IO.BioReader('test.bed',mask=\"#\"):\n",
      "    print tbed"
     ],
     "language": "python",
     "metadata": {},
     "outputs": [
      {
       "output_type": "stream",
       "stream": "stdout",
       "text": [
        "['chr1', '12416097', '12416119', 'MIMAT0025084_1;mmu-miR-6341;MI0021869_1', '255', '+']\n",
        "['chr1', '20669098', '20669120', 'MIMAT0017004_1;mmu-miR-206-5p;MI0000249_1', '255', '+']\n",
        "['chr1', '20669136', '20669157', 'MIMAT0000239_1;mmu-miR-206-3p;MI0000249_1', '255', '+']\n",
        "['chr1', '20672878', '20672899', 'MIMAT0017083_1;mmu-miR-133b-5p;MI0000821_1', '255', '+']\n",
        "['chr1', '20672915', '20672936', 'MIMAT0000769_1;mmu-miR-133b-3p;MI0000821_1', '255', '+']\n",
        "['chr1', '23279113', '23279134', 'MIMAT0000128_1;mmu-miR-30a-5p;MI0000144_1', '255', '+']\n",
        "['chr1', '23279154', '23279175', 'MIMAT0000129_1;mmu-miR-30a-3p;MI0000144_1', '255', '+']\n",
        "['chr1', '23298553', '23298575', 'MIMAT0000514_1;mmu-miR-30c-5p;MI0000548_1', '255', '+']\n",
        "['chr1', '23298593', '23298614', 'MIMAT0005438_1;mmu-miR-30c-2-3p;MI0000548_1', '255', '+']\n",
        "['chr1', '29478397', '29478418', 'MIMAT0025085_1;mmu-miR-6342;MI0021870_1', '255', '+']\n"
       ]
      }
     ],
     "prompt_number": 4
    },
    {
     "cell_type": "code",
     "collapsed": false,
     "input": [
      "# Bed related files, it will return a corresponding object\n",
      "# Options: ['bed3', 'wiggle', 'bedgraph', 'bed','genepred']\n",
      "for tbed in IO.BioReader('test.bed','bed'):\n",
      "    print 'Chrom=',tbed.chrom,', Bed in string:',tbed"
     ],
     "language": "python",
     "metadata": {},
     "outputs": [
      {
       "output_type": "stream",
       "stream": "stdout",
       "text": [
        "Chrom= chr1 , Bed in string: chr1\t12416097\t12416119\tMIMAT0025084_1;mmu-miR-6341;MI0021869_1\t255.00\t+\n",
        "Chrom= chr1 , Bed in string: chr1\t20669098\t20669120\tMIMAT0017004_1;mmu-miR-206-5p;MI0000249_1\t255.00\t+\n",
        "Chrom= chr1 , Bed in string: chr1\t20669136\t20669157\tMIMAT0000239_1;mmu-miR-206-3p;MI0000249_1\t255.00\t+\n",
        "Chrom= chr1 , Bed in string: chr1\t20672878\t20672899\tMIMAT0017083_1;mmu-miR-133b-5p;MI0000821_1\t255.00\t+\n",
        "Chrom= chr1 , Bed in string: chr1\t20672915\t20672936\tMIMAT0000769_1;mmu-miR-133b-3p;MI0000821_1\t255.00\t+\n",
        "Chrom= chr1 , Bed in string: chr1\t23279113\t23279134\tMIMAT0000128_1;mmu-miR-30a-5p;MI0000144_1\t255.00\t+\n",
        "Chrom= chr1 , Bed in string: chr1\t23279154\t23279175\tMIMAT0000129_1;mmu-miR-30a-3p;MI0000144_1\t255.00\t+\n",
        "Chrom= chr1 , Bed in string: chr1\t23298553\t23298575\tMIMAT0000514_1;mmu-miR-30c-5p;MI0000548_1\t255.00\t+\n",
        "Chrom= chr1 , Bed in string: chr1\t23298593\t23298614\tMIMAT0005438_1;mmu-miR-30c-2-3p;MI0000548_1\t255.00\t+\n",
        "Chrom= chr1 , Bed in string: chr1\t29478397\t29478418\tMIMAT0025085_1;mmu-miR-6342;MI0021870_1\t255.00\t+\n"
       ]
      }
     ],
     "prompt_number": 5
    },
    {
     "cell_type": "code",
     "collapsed": false,
     "input": [
      "# SAM or BAM files, return a SAMFile object\n",
      "# Options: ['sam', 'bam']\n",
      "sams = [] \n",
      "for tsam in IO.BioReader('test.sam','sam'):\n",
      "    sams.append(tsam)\n",
      "\n",
      "# print sam items. The file may be huge, we just print two of them\n",
      "print sams[0]\n",
      "print sams[3]"
     ],
     "language": "python",
     "metadata": {},
     "outputs": [
      {
       "output_type": "stream",
       "stream": "stdout",
       "text": [
        "HWI-ST1113_0169:4:2311:3245:66985#CGATGT/1\t16\t0\t3000375\t255\t[(0, 36)]\t-1\t-1\t36\tCTTCTATTTCCATTTTCAGGTTTTAAACAGTTTCCT\tiiihihiiiiihiiiiiiiiiiigggggeeeeebb_\t[('XA', 0), ('MD', '36'), ('NM', 0)]\n",
        "HWI-ST1113_0169:4:1312:17775:76164#CGATGT/1\t0\t0\t3000859\t255\t[(0, 36)]\t-1\t-1\t36\tGGGGGCCTCTACTAGCTGTTAGCTTGGCATTTGGTA\tbbbeeeeegggggiiiiiiiiiiiiiiiiihihidg\t[('XA', 0), ('MD', '36'), ('NM', 0)]\n"
       ]
      }
     ],
     "prompt_number": 6
    },
    {
     "cell_type": "code",
     "collapsed": false,
     "input": [
      "# SAMToBed, read SAM/BAM files as Bed. \n",
      "# Options: ['sam2bed','bam2bed']\n",
      "# Mostly for genomic sequencing, ChIP sequencing and other sequencings that one read can be continuously mapped to genome.\n",
      "# The CIGAR information is parsed here.\n",
      "# Bed is defined as Bed([sam.references[read.id],read.pos,read.pos+read.qlen,read.qname,0,read.is_reverse and \"-\" or \"+\"])\n",
      "beds = []\n",
      "for tbed in IO.BioReader('test.bam','bam2bed'):\n",
      "    beds.append(tbed)\n",
      "    \n",
      "# print Bed items. The file may be huge, we just print two of them\n",
      "print beds[5]\n",
      "print beds[8]"
     ],
     "language": "python",
     "metadata": {},
     "outputs": [
      {
       "output_type": "stream",
       "stream": "stdout",
       "text": [
        "chr1\t23279113\t23279113\tMIMAT0000128_1;mmu-miR-30a-5p;MI0000144_1\t0.00 \t+\n",
        "chr1\t23298593\t23298593\tMIMAT0005438_1;mmu-miR-30c-2-3p;MI0000548_1\t0.00 \t+\n"
       ]
      }
     ],
     "prompt_number": 7
    },
    {
     "cell_type": "code",
     "collapsed": false,
     "input": [
      "# SAMToBed2, read SAM/BAM files as Bed2. \n",
      "# Options: ['sam2beds','bam2beds']\n",
      "# Mostly for RNA Seq, in which one read may be mapped to noncontinous regions.\n",
      "# The CIGAR information is parsed here. One alignment may contain multiple genomic regions (Beds).\n",
      "# CIGAR = \"8M10D15M\" is split into two Beds with length as 8 and 15, respectively\n",
      "beds = []\n",
      "for tbeds in IO.BioReader('test.bam','bam2beds'):\n",
      "    for tbed in tbeds:\n",
      "        beds.append(tbed)\n",
      "    \n",
      "# print Bed items. The file may be huge, we just print two of them\n",
      "print beds[5]\n",
      "print beds[8]"
     ],
     "language": "python",
     "metadata": {},
     "outputs": [
      {
       "output_type": "stream",
       "stream": "stdout",
       "text": [
        "chr1\t23279113\t23279134\tMIMAT0000128_1;mmu-miR-30a-5p;MI0000144_1\t1.00 \t+\n",
        "chr1\t23298593\t23298614\tMIMAT0005438_1;mmu-miR-30c-2-3p;MI0000548_1\t1.00 \t+\n"
       ]
      }
     ],
     "prompt_number": 8
    },
    {
     "cell_type": "code",
     "collapsed": false,
     "input": [
      "# \"Any\" format: a custome defined format that contains at least chrom, start and stop in each row.\n",
      "# The type is provided in this way: \"chrom_index:start_index:stop_index:id_index:score_index:strand_index\". Index is 1-based. i.e. \"3:5:6:2:-:4\" \n",
      "# Leave it blank if any column is not applicable. i.e. \"3:5:6:::4\" or \"3:5:6\"\n",
      "# The rest of columns are stored in Bed.otherfields, which can be print out be Bed.allFields()\n",
      "for line in IO.BioReader('test.tab'):\n",
      "    print line[0:7]\n",
      "for tbed in IO.BioReader('test.tab','3:5:6:2:-:4'):\n",
      "    print tbed,\"\\t\".join(tbed.otherfields[0:3]) # print tbed.allFields() will print all columns."
     ],
     "language": "python",
     "metadata": {},
     "outputs": [
      {
       "output_type": "stream",
       "stream": "stdout",
       "text": [
        "['0', 'NM_001195025', 'chr1', '+', '134212701', '134230065', '134212806']\n",
        "['0', 'NM_028778', 'chr1', '+', '134212701', '134230065', '134212806']\n",
        "['1', 'NM_008922', 'chr1', '-', '33510655', '33726603', '33510930']\n",
        "['1', 'NM_027671', 'chr1', '-', '8352741', '9289811', '8353555']\n",
        "['1', 'NM_175370', 'chr1', '-', '58714963', '58752833', '58715267']\n",
        "['1', 'NM_175642', 'chr1', '-', '25124320', '25886552', '25125012']\n",
        "['2', 'NM_178884', 'chr1', '-', '75482399', '75503027', '75482526']\n",
        "['2', 'NM_198680', 'chr1', '-', '109050537', '109057691', '109050945']\n",
        "['2', 'NM_199021', 'chr1', '-', '125228714', '125942136', '125230825']\n",
        "chr1\t134212701\t134230065\tNM_001195025\t0.00 \t+ 0\t134212806\t134228958\n",
        "chr1\t134212701\t134230065\tNM_028778\t0.00 \t+ 0\t134212806\t134228958\n",
        "chr1\t33510655\t33726603\tNM_008922\t0.00 \t- 1\t33510930\t33725856\n",
        "chr1\t8352741\t9289811\tNM_027671\t0.00 \t- 1\t8353555\t8794024\n",
        "chr1\t58714963\t58752833\tNM_175370\t0.00 \t- 1\t58715267\t58749257\n",
        "chr1\t25124320\t25886552\tNM_175642\t0.00 \t- 1\t25125012\t25883605\n",
        "chr1\t75482399\t75503027\tNM_178884\t0.00 \t- 2\t75482526\t75502799\n",
        "chr1\t109050537\t109057691\tNM_198680\t0.00 \t- 2\t109050945\t109056354\n",
        "chr1\t125228714\t125942136\tNM_199021\t0.00 \t- 2\t125230825\t125942020\n"
       ]
      }
     ],
     "prompt_number": 9
    },
    {
     "cell_type": "code",
     "collapsed": false,
     "input": [
      "# Wiggle format, return a Wiggle object\n",
      "# Note: Wiggle format is 1-based but stored as 0-based.\n",
      "\n",
      "for i,wig in enumerate(IO.BioReader('test.wig','wig')):\n",
      "    if i<10:\n",
      "        print wig.start,wig.stop,wig\n",
      "    else:\n",
      "        break"
     ],
     "language": "python",
     "metadata": {},
     "outputs": [
      {
       "output_type": "stream",
       "stream": "stdout",
       "text": [
        "0 50 chr1\t1\t50\t0.31\n",
        "50 100 chr1\t51\t100\t0.41\n",
        "100 150 chr1\t101\t150\t0.33\n",
        "150 200 chr1\t151\t200\t0.35\n",
        "3000900 3000950 chr1\t3000901\t3000950\t0.41\n",
        "3000950 3001000 chr1\t3000951\t3001000\t2.34\n",
        "3001000 3001050 chr1\t3001001\t3001050\t2.08\n",
        "3001050 3001100 chr1\t3001051\t3001100\t2.52\n",
        "3001100 3001150 chr1\t3001101\t3001150\t1.41\n",
        "3001700 3001750 chr1\t3001701\t3001750\t0.68\n"
       ]
      }
     ],
     "prompt_number": 10
    },
    {
     "cell_type": "code",
     "collapsed": false,
     "input": [
      "# BigWig format, return a Wiggle object\n",
      "# Note: BiWig is 0-based. Wiggle format is 1-based but stored as 0-based.\n",
      "for i,wig in enumerate(IO.BioReader('test.bw','bigwig')):\n",
      "    if i<10:\n",
      "        print wig.start,wig.stop,wig\n",
      "    else:\n",
      "        break"
     ],
     "language": "python",
     "metadata": {},
     "outputs": [
      {
       "output_type": "stream",
       "stream": "stdout",
       "text": [
        "0 50 chr1\t1\t50\t0.31\n",
        "50 100 chr1\t51\t100\t0.41\n",
        "100 150 chr1\t101\t150\t0.33\n",
        "150 200 chr1\t151\t200\t0.35\n",
        "3000900 3000950 chr1\t3000901\t3000950\t0.41\n",
        "3000950 3001000 chr1\t3000951\t3001000\t2.34\n",
        "3001000 3001050 chr1\t3001001\t3001050\t2.08\n",
        "3001050 3001100 chr1\t3001051\t3001100\t2.52\n",
        "3001100 3001150 chr1\t3001101\t3001150\t1.41\n",
        "3001700 3001750 chr1\t3001701\t3001750\t0.68\n"
       ]
      }
     ],
     "prompt_number": 11
    },
    {
     "cell_type": "code",
     "collapsed": false,
     "input": [],
     "language": "python",
     "metadata": {},
     "outputs": [],
     "prompt_number": 11
    }
   ],
   "metadata": {}
  }
 ]
}