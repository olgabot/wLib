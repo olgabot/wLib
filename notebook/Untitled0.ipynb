{
 "metadata": {
  "name": "Untitled0"
 },
 "nbformat": 3,
 "nbformat_minor": 0,
 "worksheets": [
  {
   "cells": [
    {
     "cell_type": "code",
     "collapsed": false,
     "input": [
      "from wLib import IO,DB,stringFile"
     ],
     "language": "python",
     "metadata": {},
     "outputs": [],
     "prompt_number": 18
    },
    {
     "cell_type": "code",
     "collapsed": false,
     "input": [
      "sams=stringFile()\n",
      "with DB('test.bam','sam') as fh:\n",
      "    for item in fh.fetch(chrom='chr1',start=1,stop=100000000):\n",
      "        sams.write(item+\"\\n\")\n",
      "        \n",
      "        "
     ],
     "language": "python",
     "metadata": {},
     "outputs": [],
     "prompt_number": 4
    },
    {
     "cell_type": "code",
     "collapsed": false,
     "input": [
      "import pysam\n",
      "sams.seek(0)\n",
      "try:\n",
      "    sam = pysam.Samfile(sams,'r')\n",
      "except:\n",
      "    print \"noheaders\"\n",
      "    sam = IO.mopen(sams)\n",
      "print \"start output:\"\n",
      "print IO.SAMToBed(sam.next())\n",
      "sam.close()"
     ],
     "language": "python",
     "metadata": {},
     "outputs": [
      {
       "output_type": "stream",
       "stream": "stdout",
       "text": [
        "noheaders\n",
        "start output:\n",
        "chr1\t3000376\t3000412\tHWI-ST1113_0169:4:2311:3245:66985#CGATGT/1\t0.00 \t-\n"
       ]
      }
     ],
     "prompt_number": 5
    },
    {
     "cell_type": "code",
     "collapsed": false,
     "input": [
      "import re\n",
      "cigar = '8M9I3D10M'\n",
      "for m in re.finditer('(\\d+)(\\w)',cigar):\n",
      "    print m.groups()"
     ],
     "language": "python",
     "metadata": {},
     "outputs": [
      {
       "output_type": "stream",
       "stream": "stdout",
       "text": [
        "('8', 'M')\n",
        "('9', 'I')\n",
        "('3', 'D')\n",
        "('10', 'M')\n"
       ]
      }
     ],
     "prompt_number": 24
    },
    {
     "cell_type": "code",
     "collapsed": false,
     "input": [
      "print 16 & 31 and \"-\" or \"+\""
     ],
     "language": "python",
     "metadata": {},
     "outputs": [
      {
       "output_type": "stream",
       "stream": "stdout",
       "text": [
        "-\n"
       ]
      }
     ],
     "prompt_number": 30
    },
    {
     "cell_type": "code",
     "collapsed": false,
     "input": [
      "import numpy\n"
     ],
     "language": "python",
     "metadata": {},
     "outputs": [],
     "prompt_number": 6
    },
    {
     "cell_type": "code",
     "collapsed": false,
     "input": [
      "a=numpy.zeros(10)\n",
      "a[3]=5\n",
      "a[6]=10"
     ],
     "language": "python",
     "metadata": {},
     "outputs": [],
     "prompt_number": 15
    },
    {
     "cell_type": "code",
     "collapsed": false,
     "input": [
      "\n",
      "numpy.nonzero(a)"
     ],
     "language": "python",
     "metadata": {},
     "outputs": [
      {
       "output_type": "pyout",
       "prompt_number": 16,
       "text": [
        "(array([3, 6]),)"
       ]
      }
     ],
     "prompt_number": 16
    },
    {
     "cell_type": "code",
     "collapsed": false,
     "input": [
      "for i in numpy.nonzero(a)[0]:\n",
      "    print a[i]"
     ],
     "language": "python",
     "metadata": {},
     "outputs": [
      {
       "output_type": "stream",
       "stream": "stdout",
       "text": [
        "5.0\n",
        "10.0\n"
       ]
      }
     ],
     "prompt_number": 17
    },
    {
     "cell_type": "code",
     "collapsed": false,
     "input": [],
     "language": "python",
     "metadata": {},
     "outputs": []
    }
   ],
   "metadata": {}
  }
 ]
}